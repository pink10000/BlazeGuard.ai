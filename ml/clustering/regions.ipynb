{
 "cells": [
  {
   "cell_type": "code",
   "execution_count": null,
   "metadata": {},
   "outputs": [],
   "source": [
    "!pip install numpy sklearn alphashape shapely"
   ]
  },
  {
   "cell_type": "code",
   "execution_count": null,
   "metadata": {},
   "outputs": [],
   "source": [
    "import numpy as np\n",
    "from sklearn.cluster import DBSCAN\n",
    "import alphashape\n",
    "import shapely.geometry as geometry\n"
   ]
  },
  {
   "cell_type": "code",
   "execution_count": null,
   "metadata": {},
   "outputs": [],
   "source": [
    "@Kyle\n",
    "need to import the csv here into \"points\"\n",
    "\n",
    "def dbscan_cluster(data, eps, min_samples):\n",
    "    dbscan = DBSCAN(eps=eps, min_samples=min_samples, metric='haversine')\n",
    "    clusters = dbscan.fit_predict(np.radians(data))\n",
    "    return clusters\n"
   ]
  },
  {
   "cell_type": "code",
   "execution_count": null,
   "metadata": {},
   "outputs": [],
   "source": [
    "def get_alpha_shapes(points, clusters):\n",
    "    alpha_shapes = []\n",
    "    for cluster_label in np.unique(clusters):\n",
    "        if cluster_label == -1:\n",
    "            # Skip noise points\n",
    "            continue\n",
    "\n",
    "        # Filter points for the cluster\n",
    "        cluster_points = points[clusters == cluster_label]\n",
    "\n",
    "        # Create Alpha Shape\n",
    "        alpha_shape = alphashape.alphashape(cluster_points)\n",
    "        alpha_shapes.append(alpha_shape)\n",
    "    \n",
    "    return alpha_shapes\n"
   ]
  },
  {
   "cell_type": "code",
   "execution_count": null,
   "metadata": {},
   "outputs": [],
   "source": [
    "def alpha_shapes_to_polygons(alpha_shapes):\n",
    "    polygons = []\n",
    "    for alpha_shape in alpha_shapes:\n",
    "        if isinstance(alpha_shape, geometry.polygon.Polygon):\n",
    "            polygons.append(alpha_shape)\n",
    "        else:\n",
    "            for polygon in alpha_shape:\n",
    "                polygons.append(polygon)\n",
    "    return polygons\n"
   ]
  },
  {
   "cell_type": "markdown",
   "metadata": {},
   "source": [
    "# Code Runner"
   ]
  },
  {
   "cell_type": "code",
   "execution_count": null,
   "metadata": {},
   "outputs": [],
   "source": [
    "# Assuming you have a numpy array 'points' of (latitude, longitude) pairs\n",
    "\n",
    "# Define DBSCAN parameters\n",
    "eps = 0.1  # Adjust as needed\n",
    "min_samples = 5  # Adjust as needed\n",
    "\n",
    "# Get Clusters\n",
    "clusters = dbscan_cluster(points, eps, min_samples)\n",
    "\n",
    "# Get Alpha Shapes for Clusters\n",
    "alpha_shapes = get_alpha_shapes(points, clusters)\n",
    "\n",
    "# Convert Alpha Shapes to Polygons\n",
    "polygons = alpha_shapes_to_polygons(alpha_shapes)\n",
    "\n",
    "# Now 'polygons' contains the Polygon objects for each cluster\n",
    "for i, polygon in enumerate(polygons):\n",
    "    print(f\"Cluster {i + 1} Polygon: {polygon}\")\n"
   ]
  },
  {
   "cell_type": "code",
   "execution_count": null,
   "metadata": {},
   "outputs": [],
   "source": [
    "# max_distance = 1 # distance bw stuff in cluster\n",
    "# min_items = 2\n",
    "\n",
    "# dbscan = DBSCAN(eps=max_distance, min_samples=min_items)\n",
    "# clusters = dbscan.fit_predict(points)"
   ]
  },
  {
   "cell_type": "code",
   "execution_count": null,
   "metadata": {},
   "outputs": [],
   "source": [
    "# def get_bounding_box(cluster_points):\n",
    "#     min_x = np.min(cluster_points[:, 0])\n",
    "#     max_x = np.max(cluster_points[:, 0])\n",
    "#     min_y = np.min(cluster_points[:, 1])\n",
    "#     max_y = np.max(cluster_points[:, 1])\n",
    "#     return min_x, max_x, min_y, max_y\n",
    "\n",
    "# # Make the boudning boxes for every cluster\n",
    "# for cluster_label in np.unique(clusters):\n",
    "#     if cluster_label == -1:\n",
    "#         # This is the noise cluster (points that don't belong to any cluster)\n",
    "#         continue\n",
    "#     cluster_points = points[clusters == cluster_label]\n",
    "#     min_x, max_x, min_y, max_y = get_bounding_box(cluster_points)\n",
    "#     print(f\"Cluster {cluster_label} Bounding Box: (min_x, max_x, min_y, max_y)\")\n"
   ]
  }
 ],
 "metadata": {
  "language_info": {
   "name": "python"
  }
 },
 "nbformat": 4,
 "nbformat_minor": 2
}
